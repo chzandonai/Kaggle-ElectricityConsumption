{
 "cells": [
  {
   "cell_type": "code",
   "execution_count": 1,
   "id": "293c7353",
   "metadata": {
    "ExecuteTime": {
     "end_time": "2022-07-19T00:40:17.252658Z",
     "start_time": "2022-07-19T00:40:16.254416Z"
    }
   },
   "outputs": [],
   "source": [
    "import pandas as pd\n",
    "import numpy as np\n",
    "import matplotlib.pyplot as plt\n",
    "import sys\n"
   ]
  },
  {
   "cell_type": "code",
   "execution_count": 2,
   "id": "223b0d4d",
   "metadata": {
    "ExecuteTime": {
     "end_time": "2022-07-19T00:40:17.851314Z",
     "start_time": "2022-07-19T00:40:17.837311Z"
    }
   },
   "outputs": [],
   "source": [
    "sys.path.append('..')"
   ]
  },
  {
   "cell_type": "code",
   "execution_count": 3,
   "id": "8d70841a",
   "metadata": {
    "ExecuteTime": {
     "end_time": "2022-07-19T00:40:18.666864Z",
     "start_time": "2022-07-19T00:40:18.657861Z"
    }
   },
   "outputs": [],
   "source": [
    "from src.data.GetData import get_data"
   ]
  },
  {
   "cell_type": "code",
   "execution_count": 4,
   "id": "15008556",
   "metadata": {
    "ExecuteTime": {
     "end_time": "2022-07-19T00:40:20.974244Z",
     "start_time": "2022-07-19T00:40:19.723150Z"
    }
   },
   "outputs": [],
   "source": [
    "get_data('titanic')"
   ]
  },
  {
   "cell_type": "code",
   "execution_count": null,
   "id": "1bb3b34e",
   "metadata": {},
   "outputs": [],
   "source": []
  }
 ],
 "metadata": {
  "kernelspec": {
   "display_name": "Python 3 (ipykernel)",
   "language": "python",
   "name": "python3"
  },
  "language_info": {
   "codemirror_mode": {
    "name": "ipython",
    "version": 3
   },
   "file_extension": ".py",
   "mimetype": "text/x-python",
   "name": "python",
   "nbconvert_exporter": "python",
   "pygments_lexer": "ipython3",
   "version": "3.9.12"
  },
  "toc": {
   "base_numbering": 1,
   "nav_menu": {},
   "number_sections": true,
   "sideBar": true,
   "skip_h1_title": false,
   "title_cell": "Table of Contents",
   "title_sidebar": "Contents",
   "toc_cell": false,
   "toc_position": {},
   "toc_section_display": true,
   "toc_window_display": false
  },
  "varInspector": {
   "cols": {
    "lenName": 16,
    "lenType": 16,
    "lenVar": 40
   },
   "kernels_config": {
    "python": {
     "delete_cmd_postfix": "",
     "delete_cmd_prefix": "del ",
     "library": "var_list.py",
     "varRefreshCmd": "print(var_dic_list())"
    },
    "r": {
     "delete_cmd_postfix": ") ",
     "delete_cmd_prefix": "rm(",
     "library": "var_list.r",
     "varRefreshCmd": "cat(var_dic_list()) "
    }
   },
   "types_to_exclude": [
    "module",
    "function",
    "builtin_function_or_method",
    "instance",
    "_Feature"
   ],
   "window_display": false
  }
 },
 "nbformat": 4,
 "nbformat_minor": 5
}
